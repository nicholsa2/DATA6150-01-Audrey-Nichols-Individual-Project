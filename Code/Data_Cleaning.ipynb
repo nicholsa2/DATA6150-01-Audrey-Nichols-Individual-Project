{
  "nbformat": 4,
  "nbformat_minor": 0,
  "metadata": {
    "colab": {
      "provenance": []
    },
    "kernelspec": {
      "name": "python3",
      "display_name": "Python 3"
    },
    "language_info": {
      "name": "python"
    }
  },
  "cells": [
    {
      "cell_type": "code",
      "execution_count": null,
      "metadata": {
        "colab": {
          "base_uri": "https://localhost:8080/"
        },
        "id": "hSRNlcI3Iouv",
        "outputId": "5e337372-9f2c-4b36-cf2f-4f3c872e4567"
      },
      "outputs": [
        {
          "output_type": "stream",
          "name": "stdout",
          "text": [
            "Mounted at /content/drive\n"
          ]
        }
      ],
      "source": [
        "import numpy as np\n",
        "import pandas as pd\n",
        "import matplotlib.pyplot as plt\n",
        "from scipy import stats\n",
        "from google.colab import drive\n",
        "drive.mount('/content/drive')"
      ]
    },
    {
      "cell_type": "code",
      "source": [
        "# Import 2023 data\n",
        "data202301 = pd.read_csv('drive/MyDrive/BlueBike/202301-bluebikes-tripdata.csv')\n",
        "data202302 = pd.read_csv('drive/MyDrive/BlueBike/202302-bluebikes-tripdata.csv')\n",
        "data202303 = pd.read_csv('drive/MyDrive/BlueBike/202303-bluebikes-tripdata.csv')\n",
        "data202304 = pd.read_csv('drive/MyDrive/BlueBike/202304-bluebikes-tripdata.csv')\n",
        "data202305 = pd.read_csv('drive/MyDrive/BlueBike/202305-bluebikes-tripdata.csv')\n",
        "data202306 = pd.read_csv('drive/MyDrive/BlueBike/202306-bluebikes-tripdata.csv')\n",
        "data202307 = pd.read_csv('drive/MyDrive/BlueBike/202307-bluebikes-tripdata.csv')\n",
        "data202308 = pd.read_csv('drive/MyDrive/BlueBike/202308-bluebikes-tripdata.csv')\n",
        "data202309 = pd.read_csv('drive/MyDrive/BlueBike/202309-bluebikes-tripdata.csv')\n",
        "data202310 = pd.read_csv('drive/MyDrive/BlueBike/202310-bluebikes-tripdata.csv')\n",
        "data202311 = pd.read_csv('drive/MyDrive/BlueBike/202311-bluebikes-tripdata.csv')\n",
        "data202312 = pd.read_csv('drive/MyDrive/BlueBike/202312-bluebikes-tripdata.csv')"
      ],
      "metadata": {
        "id": "2DfxbBiNI4jG"
      },
      "execution_count": null,
      "outputs": []
    },
    {
      "cell_type": "code",
      "source": [
        "# Investigate Shape of Dataframes\n",
        "print(data202301.shape)\n",
        "print(data202302.shape)\n",
        "print(data202303.shape)\n",
        "print(data202304.shape)\n",
        "print(data202305.shape)\n",
        "print(data202306.shape)\n",
        "print(data202307.shape)\n",
        "print(data202308.shape)\n",
        "print(data202309.shape)\n",
        "print(data202310.shape)\n",
        "print(data202311.shape)\n",
        "print(data202312.shape)"
      ],
      "metadata": {
        "colab": {
          "base_uri": "https://localhost:8080/"
        },
        "id": "OFhcmLPeJCwC",
        "outputId": "be1e0eab-27ab-42ea-da6c-9f0c38f092d2"
      },
      "execution_count": null,
      "outputs": [
        {
          "output_type": "stream",
          "name": "stdout",
          "text": [
            "(140340, 14)\n",
            "(152975, 14)\n",
            "(199003, 14)\n",
            "(296291, 13)\n",
            "(387593, 13)\n",
            "(367839, 13)\n",
            "(411509, 13)\n",
            "(441706, 13)\n",
            "(419874, 13)\n",
            "(435867, 13)\n",
            "(270816, 13)\n",
            "(169380, 13)\n"
          ]
        }
      ]
    },
    {
      "cell_type": "code",
      "source": [
        "# Find column names\n",
        "data202301_cols = data202301.columns\n",
        "data202302_cols = data202302.columns\n",
        "data202303_cols = data202303.columns\n",
        "data202304_cols = data202304.columns\n",
        "data202305_cols = data202305.columns\n",
        "data202306_cols = data202306.columns\n",
        "data202307_cols = data202307.columns\n",
        "data202308_cols = data202308.columns\n",
        "data202309_cols = data202309.columns\n",
        "data202310_cols = data202310.columns\n",
        "data202311_cols = data202311.columns\n",
        "data202312_cols = data202312.columns\n",
        "\n",
        "# Find intersection\n",
        "intersection2023 = [item for item in data202301_cols if item in data202302_cols and item in data202303_cols and item in data202304_cols\n",
        "                    and item in data202305_cols and item in data202306_cols and item in data202307_cols\n",
        "                    and item in data202308_cols and item in data202309_cols and item in data202310_cols\n",
        "                    and item in data202311_cols and item in data202312_cols]\n",
        "\n",
        "print(data202301_cols, data202304_cols)"
      ],
      "metadata": {
        "colab": {
          "base_uri": "https://localhost:8080/"
        },
        "id": "3HOBx2OuJIfn",
        "outputId": "ced97779-a443-4237-eac9-3a810ee98129"
      },
      "execution_count": null,
      "outputs": [
        {
          "output_type": "stream",
          "name": "stdout",
          "text": [
            "Index(['tripduration', 'starttime', 'stoptime', 'start station id',\n",
            "       'start station name', 'start station latitude',\n",
            "       'start station longitude', 'end station id', 'end station name',\n",
            "       'end station latitude', 'end station longitude', 'bikeid', 'usertype',\n",
            "       'postal code'],\n",
            "      dtype='object') Index(['ride_id', 'rideable_type', 'started_at', 'ended_at',\n",
            "       'start_station_name', 'start_station_id', 'end_station_name',\n",
            "       'end_station_id', 'start_lat', 'start_lng', 'end_lat', 'end_lng',\n",
            "       'member_casual'],\n",
            "      dtype='object')\n"
          ]
        }
      ]
    },
    {
      "cell_type": "code",
      "source": [
        "# Vertically concatenate 2023 data in two parts\n",
        "data2023a = pd.concat([data202301, data202302, data202303])\n",
        "data2023b = pd.concat([data202304, data202305, data202306, data202307,\n",
        "                       data202308, data202309, data202310, data202311, data202312])\n",
        "\n",
        "# Drop column names from data2023a\n",
        "data2023a = data2023a.drop(['tripduration', 'postal code', 'bikeid'], axis=1)\n",
        "\n",
        "# Check column names\n",
        "print(data2023a.columns)"
      ],
      "metadata": {
        "colab": {
          "base_uri": "https://localhost:8080/"
        },
        "id": "o--q5VO3JiZr",
        "outputId": "4ac9cb38-fcb8-43e2-abb0-8d056dd9e2f8"
      },
      "execution_count": null,
      "outputs": [
        {
          "output_type": "stream",
          "name": "stdout",
          "text": [
            "Index(['starttime', 'stoptime', 'start station id', 'start station name',\n",
            "       'start station latitude', 'start station longitude', 'end station id',\n",
            "       'end station name', 'end station latitude', 'end station longitude',\n",
            "       'usertype'],\n",
            "      dtype='object')\n"
          ]
        }
      ]
    },
    {
      "cell_type": "code",
      "source": [
        "# Rename columns\n",
        "data2023a.rename(columns={'starttime': 'started_at',\n",
        "                         'stoptime': 'ended_at',\n",
        "                         'start station id': 'start_station_id',\n",
        "                         'start station name': 'start_station_name',\n",
        "                         'start station latitude': 'start_lat',\n",
        "                         'start station longitude': 'start_lng',\n",
        "                         'end station id': 'end_station_id',\n",
        "                         'end station name': 'end_station_name',\n",
        "                         'end station latitude': 'end_lat',\n",
        "                         'end station longitude': 'end_lng',\n",
        "                         'usertype': 'member_casual'}, inplace=True)\n",
        "\n",
        "# Add empty columns for 'ride_id' and 'rideable_type'\n",
        "data2023a['ride_id'] = ''\n",
        "data2023a['rideable_type'] = 'classic_bike'\n",
        "\n",
        "# Rearrange colummn order\n",
        "data2023a = data2023a[['ride_id', 'rideable_type', 'started_at', 'ended_at',\n",
        "       'start_station_name', 'start_station_id', 'end_station_name',\n",
        "       'end_station_id', 'start_lat', 'start_lng', 'end_lat', 'end_lng',\n",
        "       'member_casual']]\n",
        "\n",
        "# Check column names\n",
        "print(data2023a.columns)"
      ],
      "metadata": {
        "colab": {
          "base_uri": "https://localhost:8080/"
        },
        "id": "ksWsImlcJciv",
        "outputId": "a210ed59-fb16-4492-ef0e-24229550bbd6"
      },
      "execution_count": null,
      "outputs": [
        {
          "output_type": "stream",
          "name": "stdout",
          "text": [
            "Index(['ride_id', 'rideable_type', 'started_at', 'ended_at',\n",
            "       'start_station_name', 'start_station_id', 'end_station_name',\n",
            "       'end_station_id', 'start_lat', 'start_lng', 'end_lat', 'end_lng',\n",
            "       'member_casual'],\n",
            "      dtype='object')\n"
          ]
        }
      ]
    },
    {
      "cell_type": "code",
      "source": [
        "# Vertically concatenate 2023 data\n",
        "data2023 = pd.concat([data2023a, data2023b])"
      ],
      "metadata": {
        "id": "-GSvwqjCJniT"
      },
      "execution_count": null,
      "outputs": []
    },
    {
      "cell_type": "code",
      "source": [
        "# Delete unwanted variables\n",
        "del data202301, data202302, data202303, data202304, data202305, data202306, data202307, data202308, data202309, data202310, data202311, data202312, data2023a, data2023b\n",
        "del data202301_cols, data202302_cols, data202303_cols, data202304_cols, data202305_cols, data202306_cols, data202307_cols, data202308_cols, data202309_cols, data202310_cols, data202311_cols, data202312_cols\n",
        "del intersection2023"
      ],
      "metadata": {
        "id": "sWCKhC76JpQY"
      },
      "execution_count": null,
      "outputs": []
    },
    {
      "cell_type": "code",
      "source": [
        "# Import 2024 data\n",
        "data202401 = pd.read_csv('drive/MyDrive/BlueBike/202401-bluebikes-tripdata.csv')\n",
        "data202402 = pd.read_csv('drive/MyDrive/BlueBike/202402-bluebikes-tripdata.csv')\n",
        "data202403 = pd.read_csv('drive/MyDrive/BlueBike/202403-bluebikes-tripdata.csv')\n",
        "data202404 = pd.read_csv('drive/MyDrive/BlueBike/202404-bluebikes-tripdata.csv')\n",
        "data202405 = pd.read_csv('drive/MyDrive/BlueBike/202405-bluebikes-tripdata.csv') #, on_bad_lines='skip', quoting=3)\n",
        "data202406 = pd.read_csv('drive/MyDrive/BlueBike/202406-bluebikes-tripdata.csv')\n",
        "data202407 = pd.read_csv('drive/MyDrive/BlueBike/202407-bluebikes-tripdata.csv')\n",
        "data202408 = pd.read_csv('drive/MyDrive/BlueBike/202408-bluebikes-tripdata.csv') # , on_bad_lines='skip', quoting=3)\n",
        "data202409 = pd.read_csv('drive/MyDrive/BlueBike/202409-bluebikes-tripdata.csv') #, on_bad_lines='skip', quoting=3)\n",
        "data202410 = pd.read_csv('drive/MyDrive/BlueBike/202410-bluebikes-tripdata.csv')\n",
        "data202411 = pd.read_csv('drive/MyDrive/BlueBike/202411-bluebikes-tripdata.csv')"
      ],
      "metadata": {
        "id": "8S-AirurJrNZ"
      },
      "execution_count": null,
      "outputs": []
    },
    {
      "cell_type": "code",
      "source": [
        "# Investigate Shape of Dataframes\n",
        "print(data202401.shape)\n",
        "print(data202402.shape)\n",
        "print(data202403.shape)\n",
        "print(data202404.shape)\n",
        "print(data202405.shape)\n",
        "print(data202406.shape)\n",
        "print(data202407.shape)\n",
        "print(data202408.shape)\n",
        "print(data202409.shape)\n",
        "print(data202410.shape)\n",
        "print(data202411.shape)"
      ],
      "metadata": {
        "colab": {
          "base_uri": "https://localhost:8080/"
        },
        "id": "E6_4doCAJt7N",
        "outputId": "bb49c388-805e-43e6-db55-d7c5dcdd96fa"
      },
      "execution_count": null,
      "outputs": [
        {
          "output_type": "stream",
          "name": "stdout",
          "text": [
            "(166699, 13)\n",
            "(231947, 13)\n",
            "(261687, 13)\n",
            "(356327, 13)\n",
            "(440534, 13)\n",
            "(478860, 13)\n",
            "(542622, 13)\n",
            "(538262, 13)\n",
            "(582679, 13)\n",
            "(564156, 13)\n",
            "(397406, 13)\n"
          ]
        }
      ]
    },
    {
      "cell_type": "code",
      "source": [
        "# Find column names\n",
        "data202401_cols = data202401.columns\n",
        "data202402_cols = data202402.columns\n",
        "data202403_cols = data202403.columns\n",
        "data202404_cols = data202404.columns\n",
        "data202405_cols = data202405.columns\n",
        "data202406_cols = data202406.columns\n",
        "data202407_cols = data202407.columns\n",
        "data202408_cols = data202408.columns\n",
        "data202409_cols = data202409.columns\n",
        "data202410_cols = data202410.columns\n",
        "data202411_cols = data202411.columns\n",
        "\n",
        "# Find intersection\n",
        "intersection2024 = [item for item in data202401_cols if item in data202402_cols and item in data202403_cols\n",
        "                    and item in data202404_cols and item in data202405_cols and item in data202406_cols\n",
        "                    and item in data202407_cols and item in data202408_cols and item in data202409_cols\n",
        "                    and item in data202410_cols and item in data202411_cols]"
      ],
      "metadata": {
        "id": "ZfF5c2M4Jv2l"
      },
      "execution_count": null,
      "outputs": []
    },
    {
      "cell_type": "code",
      "source": [
        "# Vertically concatenate 2024 data:\n",
        "data2024 = pd.concat([data202401, data202402, data202403, data202404, data202405,\n",
        "                       data202406, data202407, data202408, data202409, data202410,\n",
        "                       data202411])"
      ],
      "metadata": {
        "id": "n3hiDEr5Jx5z"
      },
      "execution_count": null,
      "outputs": []
    },
    {
      "cell_type": "code",
      "source": [
        "# Delete unwanted variables\n",
        "del data202401, data202402, data202403, data202404, data202405, data202406, data202407, data202408, data202409, data202410, data202411\n",
        "del data202401_cols, data202402_cols, data202403_cols, data202404_cols, data202405_cols, data202406_cols, data202407_cols, data202408_cols, data202409_cols, data202410_cols, data202411_cols\n",
        "del intersection2024"
      ],
      "metadata": {
        "id": "F7i7Up7zJz6b"
      },
      "execution_count": null,
      "outputs": []
    },
    {
      "cell_type": "code",
      "source": [
        "# View different values for 'member_casual' column in 2024\n",
        "unique_member_casual2024 = data2024['member_casual'].unique()\n",
        "print(unique_member_casual2024)"
      ],
      "metadata": {
        "colab": {
          "base_uri": "https://localhost:8080/"
        },
        "id": "MqD6GXzKJ342",
        "outputId": "11b05482-84d5-4c55-de4b-7b10daf561b5"
      },
      "execution_count": null,
      "outputs": [
        {
          "output_type": "stream",
          "name": "stdout",
          "text": [
            "['member' 'casual']\n"
          ]
        }
      ]
    },
    {
      "cell_type": "code",
      "source": [
        "# View variables in 2023 data that need to be renamed\n",
        "unique_member_casual2023 = data2023['member_casual'].unique()\n",
        "print(\"2023 Unique Values: \", unique_member_casual2023)"
      ],
      "metadata": {
        "colab": {
          "base_uri": "https://localhost:8080/"
        },
        "id": "Mh3Y9Qy5J6wT",
        "outputId": "b06e0b51-d7f5-4739-ca08-ab4eebec0b7c"
      },
      "execution_count": null,
      "outputs": [
        {
          "output_type": "stream",
          "name": "stdout",
          "text": [
            "2023 Unique Values:  ['Subscriber' 'Customer' 'member' 'casual']\n"
          ]
        }
      ]
    },
    {
      "cell_type": "code",
      "source": [
        "# Rename variables\n",
        "data2023['member_casual'] = data2023['member_casual'].replace('Customer', 'casual')\n",
        "data2023['member_casual'] = data2023['member_casual'].replace('Subscriber', 'member')"
      ],
      "metadata": {
        "id": "sFkFHohWJ8qq"
      },
      "execution_count": null,
      "outputs": []
    },
    {
      "cell_type": "code",
      "source": [
        "# Check that all unique values are aligned\n",
        "unique_member_casual2023 = data2023['member_casual'].unique()\n",
        "print(\"2023 Unique Values: \", unique_member_casual2023)\n",
        "\n",
        "unique_member_casual2024 = data2024['member_casual'].unique()\n",
        "print(\"2024 Unique Values: \", unique_member_casual2024)"
      ],
      "metadata": {
        "colab": {
          "base_uri": "https://localhost:8080/"
        },
        "id": "Y1fLWfl1KMAE",
        "outputId": "b3767b3c-ff0d-4962-d77c-0d1c62b51a84"
      },
      "execution_count": null,
      "outputs": [
        {
          "output_type": "stream",
          "name": "stdout",
          "text": [
            "2023 Unique Values:  ['member' 'casual']\n",
            "2024 Unique Values:  ['member' 'casual']\n"
          ]
        }
      ]
    },
    {
      "cell_type": "code",
      "source": [
        "# Delete unwanted variables\n",
        "del unique_member_casual2024, unique_member_casual2023"
      ],
      "metadata": {
        "id": "aMbUzg3cKTXD"
      },
      "execution_count": null,
      "outputs": []
    },
    {
      "cell_type": "code",
      "source": [
        "# Determine methodology for calculating ride duration\n",
        "start = data2023.iloc[0, 2]\n",
        "end = data2023.iloc[0, 3]\n",
        "\n",
        "print(start)\n",
        "print(end)\n",
        "\n",
        "starthr = int(start[11:13])\n",
        "startmin =  int(start[14:16])\n",
        "startsec = int(start[17:19])\n",
        "endhr = int(end[11:13])\n",
        "endmin = int(end[14:16])\n",
        "endsec = int(end[17:19])\n",
        "\n",
        "print(starthr)\n",
        "print(startmin)\n",
        "print(startsec)\n",
        "print(endhr)\n",
        "print(endmin)\n",
        "print(endsec)\n",
        "\n",
        "duration = endhr * 60 + endmin + endsec/60 - starthr * 60 - startmin - startsec/60\n",
        "print(duration)"
      ],
      "metadata": {
        "colab": {
          "base_uri": "https://localhost:8080/"
        },
        "id": "FUE0BU1SKecA",
        "outputId": "d09673d7-0f37-459f-c87e-9a2a0f5cac15"
      },
      "execution_count": null,
      "outputs": [
        {
          "output_type": "stream",
          "name": "stdout",
          "text": [
            "2023-01-01 00:02:54.0800\n",
            "2023-01-01 00:07:04.4100\n",
            "0\n",
            "2\n",
            "54\n",
            "0\n",
            "7\n",
            "4\n",
            "4.166666666666666\n"
          ]
        }
      ]
    },
    {
      "cell_type": "code",
      "source": [
        "# Add columns 'year', 'month', 'day', 'time', and 'duration_min' columns\n",
        "data2023['year'] = data2023['started_at'].str[0:4].astype(int)\n",
        "data2023['month'] = data2023['started_at'].str[5:7].astype(int)\n",
        "data2023['day'] = data2023['started_at'].str[8:10].astype(int)\n",
        "data2023['time'] = data2023['started_at'].str[11:19]\n",
        "data2023['duration_min'] = (data2023['ended_at'].str[11:13].astype(int)*60\n",
        "                            + data2023['ended_at'].str[14:16].astype(int)\n",
        "                            + data2023['ended_at'].str[17:19].astype(int)/60) - (data2023['started_at'].str[11:13].astype(int)*60\n",
        "                                                                                 + data2023['started_at'].str[14:16].astype(int)\n",
        "                                                                                 + data2023['started_at'].str[17:19].astype(int)/60)\n",
        "\n",
        "data2024['year'] = data2024['started_at'].str[0:4].astype(int)\n",
        "data2024['month'] = data2024['started_at'].str[5:7].astype(int)\n",
        "data2024['day'] = data2024['started_at'].str[8:10].astype(int)\n",
        "data2024['time'] = data2024['started_at'].str[11:19]\n",
        "data2024['duration_min'] = (data2024['ended_at'].str[11:13].astype(int)*60\n",
        "                            + data2024['ended_at'].str[14:16].astype(int)\n",
        "                            + data2024['ended_at'].str[17:19].astype(int)/60) - (data2024['started_at'].str[11:13].astype(int)*60\n",
        "                                                                                 + data2024['started_at'].str[14:16].astype(int)\n",
        "                                                                                 + data2024['started_at'].str[17:19].astype(int)/60)\n",
        "# Adjust negative durations\n",
        "data2023['duration_min'] = data2023['duration_min'].apply(lambda x: x + 1440 if x < 0 else x)\n",
        "data2024['duration_min'] = data2024['duration_min'].apply(lambda x: x + 1440 if x < 0 else x)\n"
      ],
      "metadata": {
        "id": "l9XoqXBuKo2h"
      },
      "execution_count": 39,
      "outputs": []
    },
    {
      "cell_type": "code",
      "source": [
        "print(\"2024 min: \", data2024['duration_min'].min())\n",
        "print(\"2024 max: \", data2024['duration_min'].max())\n",
        "# Find duration_min mean\n",
        "print(\"2024 mean: \", data2024['duration_min'].mean())\n",
        "# find duration_min median\n",
        "print(\"2024 median: \", data2024['duration_min'].median())\n",
        "\n",
        "print(\"2023 min: \", data2023['duration_min'].min())\n",
        "print(\"2023 max: \", data2023['duration_min'].max())\n",
        "# Find duration_min mean\n",
        "print(\"2023 mean: \", data2023['duration_min'].mean())\n",
        "# find duration_min median\n",
        "print(\"2023 median: \", data2023['duration_min'].median())"
      ],
      "metadata": {
        "colab": {
          "base_uri": "https://localhost:8080/"
        },
        "id": "LV3i09jtK1uS",
        "outputId": "4983b424-96ef-4b84-a0f5-b05799641658"
      },
      "execution_count": 40,
      "outputs": [
        {
          "output_type": "stream",
          "name": "stdout",
          "text": [
            "2024 min:  0.0\n",
            "2024 max:  1439.9833333333333\n",
            "2024 mean:  16.20610372888238\n",
            "2024 median:  11.200000000000045\n",
            "2023 min:  0.0\n",
            "2023 max:  1439.9833333333333\n",
            "2023 mean:  19.345171851746343\n",
            "2023 median:  12.06666666666672\n"
          ]
        }
      ]
    },
    {
      "cell_type": "code",
      "source": [
        "data2023.head()"
      ],
      "metadata": {
        "colab": {
          "base_uri": "https://localhost:8080/",
          "height": 330
        },
        "id": "rJ_YY503Lop8",
        "outputId": "4a70d6ff-14bf-4beb-d58c-c6766f098e15"
      },
      "execution_count": 41,
      "outputs": [
        {
          "output_type": "execute_result",
          "data": {
            "text/plain": [
              "  ride_id rideable_type                started_at                  ended_at  \\\n",
              "0          classic_bike  2023-01-01 00:02:54.0800  2023-01-01 00:07:04.4100   \n",
              "1          classic_bike  2023-01-01 00:10:33.3100  2023-01-01 00:18:42.3690   \n",
              "2          classic_bike  2023-01-01 00:10:49.9130  2023-01-01 00:18:31.1280   \n",
              "3          classic_bike  2023-01-01 00:13:58.0640  2023-01-01 00:31:43.5090   \n",
              "4          classic_bike  2023-01-01 00:14:02.6130  2023-01-01 00:24:03.8950   \n",
              "\n",
              "                            start_station_name start_station_id  \\\n",
              "0  Copley Square - Dartmouth St at Boylston St               36   \n",
              "1                     Boylston St at Exeter St              372   \n",
              "2                     Boylston St at Exeter St              372   \n",
              "3                       Mugar Way at Beacon St               58   \n",
              "4                   Boylston St at Berkeley St               50   \n",
              "\n",
              "                         end_station_name end_station_id  start_lat  \\\n",
              "0  Prudential Center - 101 Huntington Ave             21  42.349928   \n",
              "1                      Mass Ave T Station            404  42.349589   \n",
              "2                      Mass Ave T Station            404  42.349589   \n",
              "3             Park Plaza at Charles St S.            345  42.355536   \n",
              "4               Tremont St at Hamilton Pl            374  42.351142   \n",
              "\n",
              "   start_lng    end_lat    end_lng member_casual  year  month  day      time  \\\n",
              "0 -71.077392  42.346520 -71.080658        member  2023      1    1  00:02:54   \n",
              "1 -71.079468  42.341356 -71.083370        casual  2023      1    1  00:10:33   \n",
              "2 -71.079468  42.341356 -71.083370        casual  2023      1    1  00:10:49   \n",
              "3 -71.072869  42.351828 -71.067811        casual  2023      1    1  00:13:58   \n",
              "4 -71.073292  42.356683 -71.061666        member  2023      1    1  00:14:02   \n",
              "\n",
              "   duration_min  \n",
              "0      4.166667  \n",
              "1      8.150000  \n",
              "2      7.700000  \n",
              "3     17.750000  \n",
              "4     10.016667  "
            ],
            "text/html": [
              "\n",
              "  <div id=\"df-2985a68f-e8ae-4fa9-8007-88178bca2f53\" class=\"colab-df-container\">\n",
              "    <div>\n",
              "<style scoped>\n",
              "    .dataframe tbody tr th:only-of-type {\n",
              "        vertical-align: middle;\n",
              "    }\n",
              "\n",
              "    .dataframe tbody tr th {\n",
              "        vertical-align: top;\n",
              "    }\n",
              "\n",
              "    .dataframe thead th {\n",
              "        text-align: right;\n",
              "    }\n",
              "</style>\n",
              "<table border=\"1\" class=\"dataframe\">\n",
              "  <thead>\n",
              "    <tr style=\"text-align: right;\">\n",
              "      <th></th>\n",
              "      <th>ride_id</th>\n",
              "      <th>rideable_type</th>\n",
              "      <th>started_at</th>\n",
              "      <th>ended_at</th>\n",
              "      <th>start_station_name</th>\n",
              "      <th>start_station_id</th>\n",
              "      <th>end_station_name</th>\n",
              "      <th>end_station_id</th>\n",
              "      <th>start_lat</th>\n",
              "      <th>start_lng</th>\n",
              "      <th>end_lat</th>\n",
              "      <th>end_lng</th>\n",
              "      <th>member_casual</th>\n",
              "      <th>year</th>\n",
              "      <th>month</th>\n",
              "      <th>day</th>\n",
              "      <th>time</th>\n",
              "      <th>duration_min</th>\n",
              "    </tr>\n",
              "  </thead>\n",
              "  <tbody>\n",
              "    <tr>\n",
              "      <th>0</th>\n",
              "      <td></td>\n",
              "      <td>classic_bike</td>\n",
              "      <td>2023-01-01 00:02:54.0800</td>\n",
              "      <td>2023-01-01 00:07:04.4100</td>\n",
              "      <td>Copley Square - Dartmouth St at Boylston St</td>\n",
              "      <td>36</td>\n",
              "      <td>Prudential Center - 101 Huntington Ave</td>\n",
              "      <td>21</td>\n",
              "      <td>42.349928</td>\n",
              "      <td>-71.077392</td>\n",
              "      <td>42.346520</td>\n",
              "      <td>-71.080658</td>\n",
              "      <td>member</td>\n",
              "      <td>2023</td>\n",
              "      <td>1</td>\n",
              "      <td>1</td>\n",
              "      <td>00:02:54</td>\n",
              "      <td>4.166667</td>\n",
              "    </tr>\n",
              "    <tr>\n",
              "      <th>1</th>\n",
              "      <td></td>\n",
              "      <td>classic_bike</td>\n",
              "      <td>2023-01-01 00:10:33.3100</td>\n",
              "      <td>2023-01-01 00:18:42.3690</td>\n",
              "      <td>Boylston St at Exeter St</td>\n",
              "      <td>372</td>\n",
              "      <td>Mass Ave T Station</td>\n",
              "      <td>404</td>\n",
              "      <td>42.349589</td>\n",
              "      <td>-71.079468</td>\n",
              "      <td>42.341356</td>\n",
              "      <td>-71.083370</td>\n",
              "      <td>casual</td>\n",
              "      <td>2023</td>\n",
              "      <td>1</td>\n",
              "      <td>1</td>\n",
              "      <td>00:10:33</td>\n",
              "      <td>8.150000</td>\n",
              "    </tr>\n",
              "    <tr>\n",
              "      <th>2</th>\n",
              "      <td></td>\n",
              "      <td>classic_bike</td>\n",
              "      <td>2023-01-01 00:10:49.9130</td>\n",
              "      <td>2023-01-01 00:18:31.1280</td>\n",
              "      <td>Boylston St at Exeter St</td>\n",
              "      <td>372</td>\n",
              "      <td>Mass Ave T Station</td>\n",
              "      <td>404</td>\n",
              "      <td>42.349589</td>\n",
              "      <td>-71.079468</td>\n",
              "      <td>42.341356</td>\n",
              "      <td>-71.083370</td>\n",
              "      <td>casual</td>\n",
              "      <td>2023</td>\n",
              "      <td>1</td>\n",
              "      <td>1</td>\n",
              "      <td>00:10:49</td>\n",
              "      <td>7.700000</td>\n",
              "    </tr>\n",
              "    <tr>\n",
              "      <th>3</th>\n",
              "      <td></td>\n",
              "      <td>classic_bike</td>\n",
              "      <td>2023-01-01 00:13:58.0640</td>\n",
              "      <td>2023-01-01 00:31:43.5090</td>\n",
              "      <td>Mugar Way at Beacon St</td>\n",
              "      <td>58</td>\n",
              "      <td>Park Plaza at Charles St S.</td>\n",
              "      <td>345</td>\n",
              "      <td>42.355536</td>\n",
              "      <td>-71.072869</td>\n",
              "      <td>42.351828</td>\n",
              "      <td>-71.067811</td>\n",
              "      <td>casual</td>\n",
              "      <td>2023</td>\n",
              "      <td>1</td>\n",
              "      <td>1</td>\n",
              "      <td>00:13:58</td>\n",
              "      <td>17.750000</td>\n",
              "    </tr>\n",
              "    <tr>\n",
              "      <th>4</th>\n",
              "      <td></td>\n",
              "      <td>classic_bike</td>\n",
              "      <td>2023-01-01 00:14:02.6130</td>\n",
              "      <td>2023-01-01 00:24:03.8950</td>\n",
              "      <td>Boylston St at Berkeley St</td>\n",
              "      <td>50</td>\n",
              "      <td>Tremont St at Hamilton Pl</td>\n",
              "      <td>374</td>\n",
              "      <td>42.351142</td>\n",
              "      <td>-71.073292</td>\n",
              "      <td>42.356683</td>\n",
              "      <td>-71.061666</td>\n",
              "      <td>member</td>\n",
              "      <td>2023</td>\n",
              "      <td>1</td>\n",
              "      <td>1</td>\n",
              "      <td>00:14:02</td>\n",
              "      <td>10.016667</td>\n",
              "    </tr>\n",
              "  </tbody>\n",
              "</table>\n",
              "</div>\n",
              "    <div class=\"colab-df-buttons\">\n",
              "\n",
              "  <div class=\"colab-df-container\">\n",
              "    <button class=\"colab-df-convert\" onclick=\"convertToInteractive('df-2985a68f-e8ae-4fa9-8007-88178bca2f53')\"\n",
              "            title=\"Convert this dataframe to an interactive table.\"\n",
              "            style=\"display:none;\">\n",
              "\n",
              "  <svg xmlns=\"http://www.w3.org/2000/svg\" height=\"24px\" viewBox=\"0 -960 960 960\">\n",
              "    <path d=\"M120-120v-720h720v720H120Zm60-500h600v-160H180v160Zm220 220h160v-160H400v160Zm0 220h160v-160H400v160ZM180-400h160v-160H180v160Zm440 0h160v-160H620v160ZM180-180h160v-160H180v160Zm440 0h160v-160H620v160Z\"/>\n",
              "  </svg>\n",
              "    </button>\n",
              "\n",
              "  <style>\n",
              "    .colab-df-container {\n",
              "      display:flex;\n",
              "      gap: 12px;\n",
              "    }\n",
              "\n",
              "    .colab-df-convert {\n",
              "      background-color: #E8F0FE;\n",
              "      border: none;\n",
              "      border-radius: 50%;\n",
              "      cursor: pointer;\n",
              "      display: none;\n",
              "      fill: #1967D2;\n",
              "      height: 32px;\n",
              "      padding: 0 0 0 0;\n",
              "      width: 32px;\n",
              "    }\n",
              "\n",
              "    .colab-df-convert:hover {\n",
              "      background-color: #E2EBFA;\n",
              "      box-shadow: 0px 1px 2px rgba(60, 64, 67, 0.3), 0px 1px 3px 1px rgba(60, 64, 67, 0.15);\n",
              "      fill: #174EA6;\n",
              "    }\n",
              "\n",
              "    .colab-df-buttons div {\n",
              "      margin-bottom: 4px;\n",
              "    }\n",
              "\n",
              "    [theme=dark] .colab-df-convert {\n",
              "      background-color: #3B4455;\n",
              "      fill: #D2E3FC;\n",
              "    }\n",
              "\n",
              "    [theme=dark] .colab-df-convert:hover {\n",
              "      background-color: #434B5C;\n",
              "      box-shadow: 0px 1px 3px 1px rgba(0, 0, 0, 0.15);\n",
              "      filter: drop-shadow(0px 1px 2px rgba(0, 0, 0, 0.3));\n",
              "      fill: #FFFFFF;\n",
              "    }\n",
              "  </style>\n",
              "\n",
              "    <script>\n",
              "      const buttonEl =\n",
              "        document.querySelector('#df-2985a68f-e8ae-4fa9-8007-88178bca2f53 button.colab-df-convert');\n",
              "      buttonEl.style.display =\n",
              "        google.colab.kernel.accessAllowed ? 'block' : 'none';\n",
              "\n",
              "      async function convertToInteractive(key) {\n",
              "        const element = document.querySelector('#df-2985a68f-e8ae-4fa9-8007-88178bca2f53');\n",
              "        const dataTable =\n",
              "          await google.colab.kernel.invokeFunction('convertToInteractive',\n",
              "                                                    [key], {});\n",
              "        if (!dataTable) return;\n",
              "\n",
              "        const docLinkHtml = 'Like what you see? Visit the ' +\n",
              "          '<a target=\"_blank\" href=https://colab.research.google.com/notebooks/data_table.ipynb>data table notebook</a>'\n",
              "          + ' to learn more about interactive tables.';\n",
              "        element.innerHTML = '';\n",
              "        dataTable['output_type'] = 'display_data';\n",
              "        await google.colab.output.renderOutput(dataTable, element);\n",
              "        const docLink = document.createElement('div');\n",
              "        docLink.innerHTML = docLinkHtml;\n",
              "        element.appendChild(docLink);\n",
              "      }\n",
              "    </script>\n",
              "  </div>\n",
              "\n",
              "\n",
              "<div id=\"df-d28d0fd0-5e98-43a6-b1f2-39cf727dae81\">\n",
              "  <button class=\"colab-df-quickchart\" onclick=\"quickchart('df-d28d0fd0-5e98-43a6-b1f2-39cf727dae81')\"\n",
              "            title=\"Suggest charts\"\n",
              "            style=\"display:none;\">\n",
              "\n",
              "<svg xmlns=\"http://www.w3.org/2000/svg\" height=\"24px\"viewBox=\"0 0 24 24\"\n",
              "     width=\"24px\">\n",
              "    <g>\n",
              "        <path d=\"M19 3H5c-1.1 0-2 .9-2 2v14c0 1.1.9 2 2 2h14c1.1 0 2-.9 2-2V5c0-1.1-.9-2-2-2zM9 17H7v-7h2v7zm4 0h-2V7h2v10zm4 0h-2v-4h2v4z\"/>\n",
              "    </g>\n",
              "</svg>\n",
              "  </button>\n",
              "\n",
              "<style>\n",
              "  .colab-df-quickchart {\n",
              "      --bg-color: #E8F0FE;\n",
              "      --fill-color: #1967D2;\n",
              "      --hover-bg-color: #E2EBFA;\n",
              "      --hover-fill-color: #174EA6;\n",
              "      --disabled-fill-color: #AAA;\n",
              "      --disabled-bg-color: #DDD;\n",
              "  }\n",
              "\n",
              "  [theme=dark] .colab-df-quickchart {\n",
              "      --bg-color: #3B4455;\n",
              "      --fill-color: #D2E3FC;\n",
              "      --hover-bg-color: #434B5C;\n",
              "      --hover-fill-color: #FFFFFF;\n",
              "      --disabled-bg-color: #3B4455;\n",
              "      --disabled-fill-color: #666;\n",
              "  }\n",
              "\n",
              "  .colab-df-quickchart {\n",
              "    background-color: var(--bg-color);\n",
              "    border: none;\n",
              "    border-radius: 50%;\n",
              "    cursor: pointer;\n",
              "    display: none;\n",
              "    fill: var(--fill-color);\n",
              "    height: 32px;\n",
              "    padding: 0;\n",
              "    width: 32px;\n",
              "  }\n",
              "\n",
              "  .colab-df-quickchart:hover {\n",
              "    background-color: var(--hover-bg-color);\n",
              "    box-shadow: 0 1px 2px rgba(60, 64, 67, 0.3), 0 1px 3px 1px rgba(60, 64, 67, 0.15);\n",
              "    fill: var(--button-hover-fill-color);\n",
              "  }\n",
              "\n",
              "  .colab-df-quickchart-complete:disabled,\n",
              "  .colab-df-quickchart-complete:disabled:hover {\n",
              "    background-color: var(--disabled-bg-color);\n",
              "    fill: var(--disabled-fill-color);\n",
              "    box-shadow: none;\n",
              "  }\n",
              "\n",
              "  .colab-df-spinner {\n",
              "    border: 2px solid var(--fill-color);\n",
              "    border-color: transparent;\n",
              "    border-bottom-color: var(--fill-color);\n",
              "    animation:\n",
              "      spin 1s steps(1) infinite;\n",
              "  }\n",
              "\n",
              "  @keyframes spin {\n",
              "    0% {\n",
              "      border-color: transparent;\n",
              "      border-bottom-color: var(--fill-color);\n",
              "      border-left-color: var(--fill-color);\n",
              "    }\n",
              "    20% {\n",
              "      border-color: transparent;\n",
              "      border-left-color: var(--fill-color);\n",
              "      border-top-color: var(--fill-color);\n",
              "    }\n",
              "    30% {\n",
              "      border-color: transparent;\n",
              "      border-left-color: var(--fill-color);\n",
              "      border-top-color: var(--fill-color);\n",
              "      border-right-color: var(--fill-color);\n",
              "    }\n",
              "    40% {\n",
              "      border-color: transparent;\n",
              "      border-right-color: var(--fill-color);\n",
              "      border-top-color: var(--fill-color);\n",
              "    }\n",
              "    60% {\n",
              "      border-color: transparent;\n",
              "      border-right-color: var(--fill-color);\n",
              "    }\n",
              "    80% {\n",
              "      border-color: transparent;\n",
              "      border-right-color: var(--fill-color);\n",
              "      border-bottom-color: var(--fill-color);\n",
              "    }\n",
              "    90% {\n",
              "      border-color: transparent;\n",
              "      border-bottom-color: var(--fill-color);\n",
              "    }\n",
              "  }\n",
              "</style>\n",
              "\n",
              "  <script>\n",
              "    async function quickchart(key) {\n",
              "      const quickchartButtonEl =\n",
              "        document.querySelector('#' + key + ' button');\n",
              "      quickchartButtonEl.disabled = true;  // To prevent multiple clicks.\n",
              "      quickchartButtonEl.classList.add('colab-df-spinner');\n",
              "      try {\n",
              "        const charts = await google.colab.kernel.invokeFunction(\n",
              "            'suggestCharts', [key], {});\n",
              "      } catch (error) {\n",
              "        console.error('Error during call to suggestCharts:', error);\n",
              "      }\n",
              "      quickchartButtonEl.classList.remove('colab-df-spinner');\n",
              "      quickchartButtonEl.classList.add('colab-df-quickchart-complete');\n",
              "    }\n",
              "    (() => {\n",
              "      let quickchartButtonEl =\n",
              "        document.querySelector('#df-d28d0fd0-5e98-43a6-b1f2-39cf727dae81 button');\n",
              "      quickchartButtonEl.style.display =\n",
              "        google.colab.kernel.accessAllowed ? 'block' : 'none';\n",
              "    })();\n",
              "  </script>\n",
              "</div>\n",
              "\n",
              "    </div>\n",
              "  </div>\n"
            ],
            "application/vnd.google.colaboratory.intrinsic+json": {
              "type": "dataframe",
              "variable_name": "data2023"
            }
          },
          "metadata": {},
          "execution_count": 41
        }
      ]
    },
    {
      "cell_type": "code",
      "source": [
        "# Save csv files\n",
        "data2023.to_csv('/content/drive/My Drive/BlueBikes2023.csv', index=False)\n",
        "data2024.to_csv('/content/drive/My Drive/BlueBikes2024.csv', index=False)"
      ],
      "metadata": {
        "id": "z6y6GBRcK4a9"
      },
      "execution_count": 42,
      "outputs": []
    }
  ]
}